{
 "cells": [
  {
   "cell_type": "markdown",
   "metadata": {},
   "source": [
    "### Code Supplement For Task3-4(b)"
   ]
  },
  {
   "cell_type": "code",
   "execution_count": 1,
   "metadata": {},
   "outputs": [
    {
     "name": "stdout",
     "output_type": "stream",
     "text": [
      "Degree Matrix (D):\n",
      " [[2 0 0 0 0 0 0]\n",
      " [0 2 0 0 0 0 0]\n",
      " [0 0 3 0 0 0 0]\n",
      " [0 0 0 2 0 0 0]\n",
      " [0 0 0 0 3 0 0]\n",
      " [0 0 0 0 0 1 0]\n",
      " [0 0 0 0 0 0 1]]\n"
     ]
    }
   ],
   "source": [
    "import numpy as np\n",
    "from scipy.linalg import eigh\n",
    "\n",
    "# Step 1: Define the adjacency matrix (A) and the degree matrix (D)\n",
    "A = np.array([\n",
    "    [0, 1, 1, 0, 0, 0, 0],\n",
    "    [1, 0, 1, 0, 0, 0, 0],\n",
    "    [1, 1, 0, 1, 0, 0, 0],\n",
    "    [0, 0, 1, 0, 1, 0, 0],\n",
    "    [0, 0, 0, 1, 0, 1, 1],\n",
    "    [0, 0, 0, 0, 1, 0, 0],\n",
    "    [0, 0, 0, 0, 1, 0, 0]\n",
    "])\n",
    "\n",
    "D = np.diag(np.sum(A, axis=1))\n",
    "print(\"Degree Matrix (D):\\n\", D)"
   ]
  },
  {
   "cell_type": "code",
   "execution_count": 2,
   "metadata": {},
   "outputs": [
    {
     "name": "stdout",
     "output_type": "stream",
     "text": [
      "\n",
      "Unnormalized Laplacian (L):\n",
      " [[ 2 -1 -1  0  0  0  0]\n",
      " [-1  2 -1  0  0  0  0]\n",
      " [-1 -1  3 -1  0  0  0]\n",
      " [ 0  0 -1  2 -1  0  0]\n",
      " [ 0  0  0 -1  3 -1 -1]\n",
      " [ 0  0  0  0 -1  1  0]\n",
      " [ 0  0  0  0 -1  0  1]]\n"
     ]
    }
   ],
   "source": [
    "# Step 2: Compute the unnormalized Laplacian (L)\n",
    "L = D - A\n",
    "print(\"\\nUnnormalized Laplacian (L):\\n\", L)"
   ]
  },
  {
   "cell_type": "code",
   "execution_count": 4,
   "metadata": {},
   "outputs": [
    {
     "name": "stdout",
     "output_type": "stream",
     "text": [
      "\n",
      "D_inv_sqrt:\n",
      " [[0.70710678 0.         0.         0.         0.         0.\n",
      "  0.        ]\n",
      " [0.         0.70710678 0.         0.         0.         0.\n",
      "  0.        ]\n",
      " [0.         0.         0.57735027 0.         0.         0.\n",
      "  0.        ]\n",
      " [0.         0.         0.         0.70710678 0.         0.\n",
      "  0.        ]\n",
      " [0.         0.         0.         0.         0.57735027 0.\n",
      "  0.        ]\n",
      " [0.         0.         0.         0.         0.         1.\n",
      "  0.        ]\n",
      " [0.         0.         0.         0.         0.         0.\n",
      "  1.        ]]\n"
     ]
    }
   ],
   "source": [
    "# Step 3: Compute the normalized Laplacian (L_norm)\n",
    "D_inv_sqrt = np.diag(1 / np.sqrt(np.diag(D)))\n",
    "print(\"\\nD_inv_sqrt:\\n\", D_inv_sqrt)"
   ]
  },
  {
   "cell_type": "code",
   "execution_count": 5,
   "metadata": {},
   "outputs": [
    {
     "name": "stdout",
     "output_type": "stream",
     "text": [
      "\n",
      "Normalized Laplacian (L_norm):\n",
      " [[ 1.         -0.5        -0.40824829  0.          0.          0.\n",
      "   0.        ]\n",
      " [-0.5         1.         -0.40824829  0.          0.          0.\n",
      "   0.        ]\n",
      " [-0.40824829 -0.40824829  1.         -0.40824829  0.          0.\n",
      "   0.        ]\n",
      " [ 0.          0.         -0.40824829  1.         -0.40824829  0.\n",
      "   0.        ]\n",
      " [ 0.          0.          0.         -0.40824829  1.         -0.57735027\n",
      "  -0.57735027]\n",
      " [ 0.          0.          0.          0.         -0.57735027  1.\n",
      "   0.        ]\n",
      " [ 0.          0.          0.          0.         -0.57735027  0.\n",
      "   1.        ]]\n"
     ]
    }
   ],
   "source": [
    "L_norm = D_inv_sqrt @ L @ D_inv_sqrt\n",
    "print(\"\\nNormalized Laplacian (L_norm):\\n\", L_norm)"
   ]
  },
  {
   "cell_type": "code",
   "execution_count": 6,
   "metadata": {},
   "outputs": [
    {
     "name": "stdout",
     "output_type": "stream",
     "text": [
      "Eigenvalues:\n",
      " [1.11022302e-15 1.49557924e-01 8.70925561e-01 1.00000000e+00\n",
      " 1.50000000e+00 1.53694039e+00 1.94257612e+00]\n",
      "\n",
      "Eigenvectors:\n",
      " [[-3.77964473e-01 -4.07307600e-01  3.25003362e-01  0.00000000e+00\n",
      "   7.07106781e-01  2.85748131e-01 -6.29618696e-02]\n",
      " [-3.77964473e-01 -4.07307600e-01  3.25003362e-01 -2.45263698e-17\n",
      "  -7.07106781e-01  2.85748131e-01 -6.29618696e-02]\n",
      " [-4.62910050e-01 -3.49634583e-01 -2.95291021e-01  3.00385456e-17\n",
      "   8.63052134e-15 -7.25793068e-01  2.22480514e-01]\n",
      " [-3.77964473e-01  8.62742166e-02 -7.43367856e-01 -1.22631849e-17\n",
      "  -4.88590621e-15  3.83088547e-01 -3.87746067e-01]\n",
      " [-4.62910050e-01  5.29356644e-01  6.02629972e-02 -1.50192728e-17\n",
      "  -3.05653248e-15  2.21943523e-01  6.72759447e-01]\n",
      " [-2.67261242e-01  3.59370978e-01  2.69556529e-01 -7.07106781e-01\n",
      "   3.27885867e-15 -2.38646885e-01 -4.12081146e-01]\n",
      " [-2.67261242e-01  3.59370978e-01  2.69556529e-01  7.07106781e-01\n",
      "   3.16783636e-15 -2.38646885e-01 -4.12081146e-01]]\n"
     ]
    }
   ],
   "source": [
    "# Step 4: Compute eigenvalues and eigenvectors of L_norm\n",
    "eigvals, eigvecs = eigh(L_norm)\n",
    "print(\"Eigenvalues:\\n\", eigvals)\n",
    "print(\"\\nEigenvectors:\\n\", eigvecs)"
   ]
  },
  {
   "cell_type": "code",
   "execution_count": 7,
   "metadata": {},
   "outputs": [
    {
     "name": "stdout",
     "output_type": "stream",
     "text": [
      "\n",
      "Fiedler Vector (Second Smallest Eigenvector):\n",
      " [-0.4073076  -0.4073076  -0.34963458  0.08627422  0.52935664  0.35937098\n",
      "  0.35937098]\n",
      "\n",
      "Partition 1: [4 5 6 7]\n",
      "Partition 2: [1 2 3]\n"
     ]
    }
   ],
   "source": [
    "# Step 5: Use the Fiedler vector to partition the graph\n",
    "fiedler_vector = eigvecs[:, 1]  # Second smallest eigenvector\n",
    "print(\"\\nFiedler Vector (Second Smallest Eigenvector):\\n\", fiedler_vector)\n",
    "\n",
    "partition_1 = np.where(fiedler_vector >= 0)[0] + 1  # Nodes in Partition 1\n",
    "partition_2 = np.where(fiedler_vector < 0)[0] + 1   # Nodes in Partition 2\n",
    "\n",
    "print(\"\\nPartition 1:\", partition_1)\n",
    "print(\"Partition 2:\", partition_2)"
   ]
  },
  {
   "cell_type": "code",
   "execution_count": null,
   "metadata": {},
   "outputs": [],
   "source": []
  }
 ],
 "metadata": {
  "kernelspec": {
   "display_name": "pytorch",
   "language": "python",
   "name": "python3"
  },
  "language_info": {
   "codemirror_mode": {
    "name": "ipython",
    "version": 3
   },
   "file_extension": ".py",
   "mimetype": "text/x-python",
   "name": "python",
   "nbconvert_exporter": "python",
   "pygments_lexer": "ipython3",
   "version": "3.12.5"
  }
 },
 "nbformat": 4,
 "nbformat_minor": 2
}
